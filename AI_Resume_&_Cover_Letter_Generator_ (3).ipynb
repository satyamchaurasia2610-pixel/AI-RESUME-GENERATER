{
  "nbformat": 4,
  "nbformat_minor": 0,
  "metadata": {
    "colab": {
      "provenance": []
    },
    "kernelspec": {
      "name": "python3",
      "display_name": "Python 3"
    },
    "language_info": {
      "name": "python"
    }
  },
  "cells": [
    {
      "cell_type": "markdown",
      "source": [
        "**PROJECT TITLE:** AI Resume & Cover Letter Generator\n",
        "\n",
        "\n",
        "---\n",
        "\n",
        "**DESCRIPTION:**\n",
        "\n",
        "It's frustating to manually write your resume or cover letter. Now try this project below where you just have to provide the key details like your NAME, JOB ROLE, SKILLS, etc. and rest back and let this project do rest of the work for you. Not only it will generate your resume and cover letter but also automatically download the file in form of PDF in your system which you can edit whenever you want.\n",
        "\n",
        "\n",
        "---\n",
        "***Challenges Faced: ***\n",
        "1. Handling PDF formatting from raw AI output.\n",
        "2. Creating flexible prompts that return high quality text.\n",
        "3. Managing various types of user input.\n",
        "4. Ensuring that the output resumes have a professional structure.\n",
        "\n",
        "\n",
        "---\n",
        "\n",
        "\n",
        "\n",
        "**SOLUTION:**\n",
        "\n",
        "\n",
        "\n",
        "1. Simple user input system (Nothing COMPLEX!)\n",
        "2. AI content generation\n",
        "3. Downloadable PDF output\n",
        "4. Error handling for missing input & API issues\n",
        "\n",
        "\n",
        "---\n",
        "\n",
        "**TOOLS USED:**\n",
        "\n",
        "1. **Platform** -> Google Colab\n",
        "2. **Language** -> Python\n",
        "3. **AI Model** -> Google Gemini (Gemini 2.5 Flash)\n",
        "4. **PDF Generation** -> ReportLab library\n",
        "\n",
        "\n",
        "---\n",
        "**HOW THINGS WORKOUT:**\n",
        "\n",
        "1. **User Input** -> Takes input from user [USERS PERSONAL API KEY]\n",
        "2. **Prompt Creation** -> Based on the user's input a detailed prompt is created\n",
        "3. **AI Text Generation** -> Using the Google Gemini API & API key. The prompt is sent to the Gemini model.  \n",
        "4. **PDF Generation** -> PDF is generated for Resume & Cover Letter\n",
        "5. **Download Files** -> Finally! PDF files are automatically\n",
        "downloaded to the user’s system.\n",
        "\n",
        "---\n",
        "Let's check it out!\n",
        "\n",
        "\n",
        "\n",
        "\n",
        "\n"
      ],
      "metadata": {
        "id": "Nzn6-202VYig"
      }
    },
    {
      "cell_type": "code",
      "source": [
        "# Install necessary libraries\n",
        "!pip install google-generativeai\n",
        "!pip install reportlab\n",
        "\n",
        "# Import required modules\n",
        "import os\n",
        "from IPython.display import display, Markdown\n",
        "from google.colab import files\n",
        "import google.generativeai as genai\n",
        "\n",
        "# Import ReportLab modules for PDF generation\n",
        "from reportlab.lib.pagesizes import letter\n",
        "from reportlab.platypus import SimpleDocTemplate, Paragraph, Spacer, PageBreak\n",
        "from reportlab.lib.styles import getSampleStyleSheet, ParagraphStyle\n",
        "from reportlab.lib.units import inch\n",
        "from reportlab.lib.enums import TA_LEFT, TA_CENTER, TA_RIGHT, TA_JUSTIFY\n",
        "from reportlab.lib.colors import black, blue, darkgreen"
      ],
      "metadata": {
        "colab": {
          "base_uri": "https://localhost:8080/"
        },
        "id": "gGJ3L19_SkU9",
        "outputId": "3c6707a1-09da-4aba-d3e8-99ff63d8b890"
      },
      "execution_count": 1,
      "outputs": [
        {
          "output_type": "stream",
          "name": "stdout",
          "text": [
            "Requirement already satisfied: google-generativeai in /usr/local/lib/python3.11/dist-packages (0.8.5)\n",
            "Requirement already satisfied: google-ai-generativelanguage==0.6.15 in /usr/local/lib/python3.11/dist-packages (from google-generativeai) (0.6.15)\n",
            "Requirement already satisfied: google-api-core in /usr/local/lib/python3.11/dist-packages (from google-generativeai) (2.25.1)\n",
            "Requirement already satisfied: google-api-python-client in /usr/local/lib/python3.11/dist-packages (from google-generativeai) (2.177.0)\n",
            "Requirement already satisfied: google-auth>=2.15.0 in /usr/local/lib/python3.11/dist-packages (from google-generativeai) (2.38.0)\n",
            "Requirement already satisfied: protobuf in /usr/local/lib/python3.11/dist-packages (from google-generativeai) (5.29.5)\n",
            "Requirement already satisfied: pydantic in /usr/local/lib/python3.11/dist-packages (from google-generativeai) (2.11.7)\n",
            "Requirement already satisfied: tqdm in /usr/local/lib/python3.11/dist-packages (from google-generativeai) (4.67.1)\n",
            "Requirement already satisfied: typing-extensions in /usr/local/lib/python3.11/dist-packages (from google-generativeai) (4.14.1)\n",
            "Requirement already satisfied: proto-plus<2.0.0dev,>=1.22.3 in /usr/local/lib/python3.11/dist-packages (from google-ai-generativelanguage==0.6.15->google-generativeai) (1.26.1)\n",
            "Requirement already satisfied: googleapis-common-protos<2.0.0,>=1.56.2 in /usr/local/lib/python3.11/dist-packages (from google-api-core->google-generativeai) (1.70.0)\n",
            "Requirement already satisfied: requests<3.0.0,>=2.18.0 in /usr/local/lib/python3.11/dist-packages (from google-api-core->google-generativeai) (2.32.3)\n",
            "Requirement already satisfied: cachetools<6.0,>=2.0.0 in /usr/local/lib/python3.11/dist-packages (from google-auth>=2.15.0->google-generativeai) (5.5.2)\n",
            "Requirement already satisfied: pyasn1-modules>=0.2.1 in /usr/local/lib/python3.11/dist-packages (from google-auth>=2.15.0->google-generativeai) (0.4.2)\n",
            "Requirement already satisfied: rsa<5,>=3.1.4 in /usr/local/lib/python3.11/dist-packages (from google-auth>=2.15.0->google-generativeai) (4.9.1)\n",
            "Requirement already satisfied: httplib2<1.0.0,>=0.19.0 in /usr/local/lib/python3.11/dist-packages (from google-api-python-client->google-generativeai) (0.22.0)\n",
            "Requirement already satisfied: google-auth-httplib2<1.0.0,>=0.2.0 in /usr/local/lib/python3.11/dist-packages (from google-api-python-client->google-generativeai) (0.2.0)\n",
            "Requirement already satisfied: uritemplate<5,>=3.0.1 in /usr/local/lib/python3.11/dist-packages (from google-api-python-client->google-generativeai) (4.2.0)\n",
            "Requirement already satisfied: annotated-types>=0.6.0 in /usr/local/lib/python3.11/dist-packages (from pydantic->google-generativeai) (0.7.0)\n",
            "Requirement already satisfied: pydantic-core==2.33.2 in /usr/local/lib/python3.11/dist-packages (from pydantic->google-generativeai) (2.33.2)\n",
            "Requirement already satisfied: typing-inspection>=0.4.0 in /usr/local/lib/python3.11/dist-packages (from pydantic->google-generativeai) (0.4.1)\n",
            "Requirement already satisfied: grpcio<2.0.0,>=1.33.2 in /usr/local/lib/python3.11/dist-packages (from google-api-core[grpc]!=2.0.*,!=2.1.*,!=2.10.*,!=2.2.*,!=2.3.*,!=2.4.*,!=2.5.*,!=2.6.*,!=2.7.*,!=2.8.*,!=2.9.*,<3.0.0dev,>=1.34.1->google-ai-generativelanguage==0.6.15->google-generativeai) (1.74.0)\n",
            "Requirement already satisfied: grpcio-status<2.0.0,>=1.33.2 in /usr/local/lib/python3.11/dist-packages (from google-api-core[grpc]!=2.0.*,!=2.1.*,!=2.10.*,!=2.2.*,!=2.3.*,!=2.4.*,!=2.5.*,!=2.6.*,!=2.7.*,!=2.8.*,!=2.9.*,<3.0.0dev,>=1.34.1->google-ai-generativelanguage==0.6.15->google-generativeai) (1.71.2)\n",
            "Requirement already satisfied: pyparsing!=3.0.0,!=3.0.1,!=3.0.2,!=3.0.3,<4,>=2.4.2 in /usr/local/lib/python3.11/dist-packages (from httplib2<1.0.0,>=0.19.0->google-api-python-client->google-generativeai) (3.2.3)\n",
            "Requirement already satisfied: pyasn1<0.7.0,>=0.6.1 in /usr/local/lib/python3.11/dist-packages (from pyasn1-modules>=0.2.1->google-auth>=2.15.0->google-generativeai) (0.6.1)\n",
            "Requirement already satisfied: charset-normalizer<4,>=2 in /usr/local/lib/python3.11/dist-packages (from requests<3.0.0,>=2.18.0->google-api-core->google-generativeai) (3.4.2)\n",
            "Requirement already satisfied: idna<4,>=2.5 in /usr/local/lib/python3.11/dist-packages (from requests<3.0.0,>=2.18.0->google-api-core->google-generativeai) (3.10)\n",
            "Requirement already satisfied: urllib3<3,>=1.21.1 in /usr/local/lib/python3.11/dist-packages (from requests<3.0.0,>=2.18.0->google-api-core->google-generativeai) (2.5.0)\n",
            "Requirement already satisfied: certifi>=2017.4.17 in /usr/local/lib/python3.11/dist-packages (from requests<3.0.0,>=2.18.0->google-api-core->google-generativeai) (2025.7.14)\n",
            "Collecting reportlab\n",
            "  Downloading reportlab-4.4.3-py3-none-any.whl.metadata (1.7 kB)\n",
            "Requirement already satisfied: pillow>=9.0.0 in /usr/local/lib/python3.11/dist-packages (from reportlab) (11.3.0)\n",
            "Requirement already satisfied: charset-normalizer in /usr/local/lib/python3.11/dist-packages (from reportlab) (3.4.2)\n",
            "Downloading reportlab-4.4.3-py3-none-any.whl (2.0 MB)\n",
            "\u001b[2K   \u001b[90m━━━━━━━━━━━━━━━━━━━━━━━━━━━━━━━━━━━━━━━━\u001b[0m \u001b[32m2.0/2.0 MB\u001b[0m \u001b[31m28.9 MB/s\u001b[0m eta \u001b[36m0:00:00\u001b[0m\n",
            "\u001b[?25hInstalling collected packages: reportlab\n",
            "Successfully installed reportlab-4.4.3\n"
          ]
        }
      ]
    },
    {
      "cell_type": "markdown",
      "metadata": {
        "id": "0a1d7670"
      },
      "source": [
        "# Task\n",
        "Add a Gradio interface to the existing code that allows users to input their resume details, generate a resume, and download it as a PDF."
      ]
    },
    {
      "cell_type": "markdown",
      "metadata": {
        "id": "c88ec281"
      },
      "source": [
        "## Define gradio inputs\n",
        "\n",
        "### Subtask:\n",
        "Determine the Gradio components needed to collect all the required resume information from the user (full name, email, phone number, work experience details, education details, skills, and resume template choice).\n"
      ]
    },
    {
      "cell_type": "markdown",
      "metadata": {
        "id": "0f6051d7"
      },
      "source": [
        "**Reasoning**:\n",
        "Identify the necessary Gradio components for collecting user input for the resume, considering how to handle the list inputs for work experience and education within the Gradio framework.\n",
        "\n"
      ]
    },
    {
      "cell_type": "code",
      "metadata": {
        "id": "5a40da8b"
      },
      "source": [
        "import gradio as gr\n",
        "\n",
        "# Define Gradio components for user input\n",
        "name_input = gr.Textbox(label=\"Full Name\")\n",
        "email_input = gr.Textbox(label=\"Email Address\")\n",
        "phone_input = gr.Textbox(label=\"Phone Number\")\n",
        "\n",
        "# For work experience, we can use a Dataframe component to allow users to add multiple entries.\n",
        "# We define the headers that match the keys in the work_experience dictionary.\n",
        "experience_input = gr.Dataframe(\n",
        "    headers=[\"job_title\", \"company_name\", \"location\", \"start_date\", \"end_date\"],\n",
        "    label=\"Work Experience\",\n",
        "    row_count=(0, \"dynamic\"),  # Allow dynamic addition of rows\n",
        "    col_count=(5, \"fixed\"),\n",
        "    interactive=True\n",
        ")\n",
        "\n",
        "# Similarly, for education, use a Dataframe.\n",
        "education_input = gr.Dataframe(\n",
        "    headers=[\"degree\", \"institution\", \"graduation_date\"],\n",
        "    label=\"Education\",\n",
        "    row_count=(0, \"dynamic\"),\n",
        "    col_count=(3, \"fixed\"),\n",
        "    interactive=True\n",
        ")\n",
        "\n",
        "skills_input_text = gr.Textbox(label=\"Skills (comma-separated)\")\n",
        "\n",
        "# Resume template selection using a Dropdown\n",
        "resume_template_choice_input = gr.Dropdown(\n",
        "    choices=[\"Template A\", \"Template B\", \"Template C\"],\n",
        "    label=\"Choose Resume Template\"\n",
        ")"
      ],
      "execution_count": 2,
      "outputs": []
    },
    {
      "cell_type": "markdown",
      "metadata": {
        "id": "61eb838b"
      },
      "source": [
        "## Create a wrapper function for gradio\n",
        "\n",
        "### Subtask:\n",
        "Write a Python function that will be called by the Gradio interface. This function will take the inputs from the Gradio components, format them into the `user_information` dictionary structure expected by `generate_resume`, call `generate_resume`, save the output as a PDF using `save_as_pdf`, and return the path to the generated PDF file.\n"
      ]
    },
    {
      "cell_type": "markdown",
      "metadata": {
        "id": "4d73d911"
      },
      "source": [
        "**Reasoning**:\n",
        "Define the `generate_resume_interface` function to process Gradio inputs, call the existing resume generation and saving functions, and return the PDF file path.\n",
        "\n"
      ]
    },
    {
      "cell_type": "code",
      "metadata": {
        "id": "89f23100"
      },
      "source": [
        "def generate_resume_interface(name, email, phone, experience_df, education_df, skills_text, resume_template_choice):\n",
        "    \"\"\"\n",
        "    Processes Gradio inputs, generates a resume PDF, and returns the file path.\n",
        "    \"\"\"\n",
        "    # Convert experience DataFrame to list of dictionaries\n",
        "    work_experience = []\n",
        "    if not experience_df.empty:\n",
        "        for index, row in experience_df.iterrows():\n",
        "            # Handle potential NaN values in Dataframe rows\n",
        "            cleaned_row = {k: ('' if pd.isna(v) else str(v)) for k, v in row.items()}\n",
        "            work_experience.append(cleaned_row)\n",
        "\n",
        "    # Convert education DataFrame to list of dictionaries\n",
        "    education = []\n",
        "    if not education_df.empty:\n",
        "        for index, row in education_df.iterrows():\n",
        "             # Handle potential NaN values in Dataframe rows\n",
        "            cleaned_row = {k: ('' if pd.isna(v) else str(v)) for k, v in row.items()}\n",
        "            education.append(cleaned_row)\n",
        "\n",
        "    # Convert skills string to list\n",
        "    skills = [skill.strip() for skill in skills_text.split(',') if skill.strip()]\n",
        "\n",
        "    # Create user_information dictionary\n",
        "    user_information = {\n",
        "        'full_name': name,\n",
        "        'email': email,\n",
        "        'phone_number': phone,\n",
        "        'work_experience': work_experience,\n",
        "        'education': education,\n",
        "        'skills': skills\n",
        "    }\n",
        "\n",
        "    # Generate the resume string\n",
        "    generated_resume = generate_resume(user_information, resume_template_choice)\n",
        "\n",
        "    # Define filename and save as PDF\n",
        "    filename = \"resume.pdf\"\n",
        "    save_as_pdf(generated_resume, filename)\n",
        "\n",
        "    return filename"
      ],
      "execution_count": 3,
      "outputs": []
    },
    {
      "cell_type": "markdown",
      "metadata": {
        "id": "70674ff4"
      },
      "source": [
        "## Create the gradio interface\n",
        "\n",
        "### Subtask:\n",
        "Instantiate a `gr.Interface` object, linking the input components to the wrapper function and defining the output component (which should be a `gr.File` component to allow downloading the PDF).\n"
      ]
    },
    {
      "cell_type": "markdown",
      "metadata": {
        "id": "42cfa647"
      },
      "source": [
        "**Reasoning**:\n",
        "Instantiate a gr.Interface object with the defined inputs, function, and output component.\n",
        "\n"
      ]
    },
    {
      "cell_type": "code",
      "metadata": {
        "id": "42c70509"
      },
      "source": [
        "# Create the Gradio Interface\n",
        "resume_interface = gr.Interface(\n",
        "    fn=generate_resume_interface,\n",
        "    inputs=[\n",
        "        name_input,\n",
        "        email_input,\n",
        "        phone_input,\n",
        "        experience_input,\n",
        "        education_input,\n",
        "        skills_input_text,\n",
        "        resume_template_choice_input\n",
        "    ],\n",
        "    outputs=gr.File(label=\"Download Resume PDF\"),\n",
        "    title=\"AI Resume Generator\",\n",
        "    description=\"Enter your details to generate and download your resume as a PDF.\"\n",
        ")\n",
        "\n",
        "# The interface can be launched with resume_interface.launch()\n",
        "# We will not launch it automatically in this cell."
      ],
      "execution_count": 4,
      "outputs": []
    },
    {
      "cell_type": "markdown",
      "metadata": {
        "id": "b408a655"
      },
      "source": [
        "## Launch the gradio interface\n",
        "\n",
        "### Subtask:\n",
        "Launch the Gradio web server to make the AI Resume Generator accessible through a web interface.\n"
      ]
    },
    {
      "cell_type": "markdown",
      "metadata": {
        "id": "90b01aa4"
      },
      "source": [
        "**Reasoning**:\n",
        "Launch the Gradio interface to make it accessible via a web link.\n",
        "\n"
      ]
    },
    {
      "cell_type": "code",
      "metadata": {
        "colab": {
          "base_uri": "https://localhost:8080/",
          "height": 611
        },
        "id": "5a7fef4e",
        "outputId": "b7c89d60-ec7d-4f1b-ff05-a7fe3a9ad696"
      },
      "source": [
        "# Launch the Gradio interface with sharing enabled\n",
        "resume_interface.launch(share=True)"
      ],
      "execution_count": 5,
      "outputs": [
        {
          "output_type": "stream",
          "name": "stdout",
          "text": [
            "Colab notebook detected. To show errors in colab notebook, set debug=True in launch()\n",
            "* Running on public URL: https://43dbb405ebdac7b187.gradio.live\n",
            "\n",
            "This share link expires in 1 week. For free permanent hosting and GPU upgrades, run `gradio deploy` from the terminal in the working directory to deploy to Hugging Face Spaces (https://huggingface.co/spaces)\n"
          ]
        },
        {
          "output_type": "display_data",
          "data": {
            "text/plain": [
              "<IPython.core.display.HTML object>"
            ],
            "text/html": [
              "<div><iframe src=\"https://43dbb405ebdac7b187.gradio.live\" width=\"100%\" height=\"500\" allow=\"autoplay; camera; microphone; clipboard-read; clipboard-write;\" frameborder=\"0\" allowfullscreen></iframe></div>"
            ]
          },
          "metadata": {}
        },
        {
          "output_type": "execute_result",
          "data": {
            "text/plain": []
          },
          "metadata": {},
          "execution_count": 5
        }
      ]
    },
    {
      "cell_type": "markdown",
      "source": [],
      "metadata": {
        "id": "bvEmTEVqqCcc"
      }
    },
    {
      "cell_type": "markdown",
      "metadata": {
        "id": "xByWnEoYpw04"
      },
      "source": [
        "# Challenges:\n",
        "\n",
        "## Challenges and Solutions\n",
        "1.✅Handling API Failures\n",
        "Challenge: Invalid API keys or model names caused the app to crash.\n",
        "\n",
        "Solution:\n",
        "Added try-except blocks to catch API errors and display them in the UI instead of crashing. The code was updated to use a stable model name (gemini-1.5-flash-latest) to ensure reliability.\n",
        "\n",
        "\n",
        "2.✅Simplifying User Input\n",
        "Challenge: The interface for adding a resume (upload vs. paste) was cluttered.\n",
        "\n",
        "Solution:\n",
        "Used a Gradio radio button to dynamically show only the relevant input field (either the file uploader or the text area), creating a cleaner user experience.\n",
        "\n",
        "\n",
        "3.✅Clean File Downloads\n",
        "Challenge: Offering both PDF and TXT downloads resulted in large, confusing UI buttons.\n",
        "\n",
        "Solution:\n",
        "\n",
        "Switched to a single gr.File(file_count=\"multiple\") component, which neatly lists all downloadable files provided by the backend, fixing the UI.\n",
        "\n",
        "\n",
        "4.✅Parsing Inconsistent PDF Resume Formats\n",
        "Challenge: Resumes uploaded as PDFs have varied layouts (e.g., multi-column, tables). PyPDF2 can fail to extract text in a logical order from complex formats, providing jumbled content to the AI and resulting in a poor-quality cover letter.\n",
        "\n",
        "Solution:\n",
        "\n",
        "The primary solution was to offer a \"Paste Text\" option as a reliable alternative. This allows users to manually copy and paste their resume content, bypassing any PDF parsing issues and guaranteeing the AI receives clean, properly ordered text.\n",
        "\n",
        "5.✅Translating AI Formatting to PDF Output\n",
        "Challenge: The Gemini model often generates text with markdown for formatting (like **Headings** or * Bullet points), but the fpdf2 library doesn't understand markdown and would just print it as plain text.\n",
        "\n",
        "Solution:\n",
        "\n",
        "A simple post-processing function was created to parse the AI's text output. This function iterates through the response line-by-line, detects markdown cues, and applies the corresponding fpdf2 formatting command (e.g., setting the font to bold for headings or adding a bullet symbol for list items) before writing to the PDF."
      ]
    },
    {
      "cell_type": "markdown",
      "metadata": {
        "id": "c2b20729"
      },
      "source": [
        "## Summary:\n",
        "\n",
        "### Data Analysis Key Findings\n",
        "\n",
        "*   Gradio input components were defined using `gr.Textbox` for single text fields, `gr.Dataframe` for dynamic lists of work experience and education entries, and `gr.Dropdown` for selecting a resume template.\n",
        "*   A Python function `generate_resume_interface` was created to act as a wrapper for the Gradio interface, handling the conversion of Gradio inputs (including pandas DataFrames for lists) into the format required by the resume generation logic.\n",
        "*   The `generate_resume_interface` function includes error handling for potential `NaN` values in the DataFrames and converts the comma-separated skills string into a list.\n",
        "*   A `gr.Interface` object named `resume_interface` was successfully instantiated, linking the defined input components to the `generate_resume_interface` function and setting the output as a `gr.File` component for PDF download.\n",
        "*   The Gradio interface was launched successfully, generating a public URL for web access to the AI Resume Generator.\n",
        "\n",
        "### Insights or Next Steps\n",
        "\n",
        "*   Consider adding validation to the Gradio inputs (e.g., email format, date formats) to ensure data quality before generating the resume.\n",
        "*   Enhance the `gr.Dataframe` inputs with more specific column types or validation rules if possible, to guide user input for experience and education details.\n"
      ]
    }
  ]
}